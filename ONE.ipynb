{
 "cells": [
  {
   "cell_type": "code",
   "execution_count": null,
   "id": "fd20ad99-e951-4814-a3aa-d560378eaaa8",
   "metadata": {},
   "outputs": [],
   "source": []
  },
  {
   "cell_type": "code",
   "execution_count": 1,
   "id": "b9934227-8a54-48f0-8ebf-f68922261f89",
   "metadata": {},
   "outputs": [
    {
     "name": "stdout",
     "output_type": "stream",
     "text": [
      "hello rama\n"
     ]
    }
   ],
   "source": [
    "print(\"hello rama\")"
   ]
  },
  {
   "cell_type": "code",
   "execution_count": 6,
   "id": "8fab7d83-f0e2-4029-9ec7-2c8f6284c271",
   "metadata": {},
   "outputs": [
    {
     "data": {
      "text/plain": [
       "'C:\\\\Users\\\\RamaB\\\\PYTHONINTERN'"
      ]
     },
     "execution_count": 6,
     "metadata": {},
     "output_type": "execute_result"
    }
   ],
   "source": [
    "pwd #Present working directori"
   ]
  },
  {
   "cell_type": "code",
   "execution_count": 2,
   "id": "723c0382-8e96-411b-8a37-89d5cf651df9",
   "metadata": {},
   "outputs": [
    {
     "name": "stdout",
     "output_type": "stream",
     "text": [
      "5\n"
     ]
    }
   ],
   "source": [
    "print(5)"
   ]
  },
  {
   "cell_type": "markdown",
   "id": "1a1822e0-9c1e-46fe-8825-0da4c569db1c",
   "metadata": {},
   "source": [
    "SHIFT + ENTER"
   ]
  },
  {
   "cell_type": "markdown",
   "id": "481c6005-1542-4c73-97d8-9d57d200090c",
   "metadata": {},
   "source": [
    "### OR USE RUN BUTTON"
   ]
  },
  {
   "cell_type": "markdown",
   "id": "17ccd6c9-ecb5-4fb0-ac64-53a2e303e28b",
   "metadata": {},
   "source": [
    "## OR USE RUN BUTTON"
   ]
  },
  {
   "cell_type": "markdown",
   "id": "51e01c80-d421-4731-8d6b-acf975d7d098",
   "metadata": {},
   "source": [
    "print(\"hello rama\")"
   ]
  },
  {
   "cell_type": "code",
   "execution_count": 5,
   "id": "7f3b9160-6549-4523-9620-305c29066a0f",
   "metadata": {},
   "outputs": [
    {
     "data": {
      "text/plain": [
       "17"
      ]
     },
     "execution_count": 5,
     "metadata": {},
     "output_type": "execute_result"
    }
   ],
   "source": [
    "a=8\n",
    "b=9\n",
    "a+b"
   ]
  },
  {
   "cell_type": "code",
   "execution_count": 1,
   "id": "60ec663a-0542-4b10-a116-1fbdd38f0378",
   "metadata": {},
   "outputs": [
    {
     "data": {
      "text/plain": [
       "6"
      ]
     },
     "execution_count": 1,
     "metadata": {},
     "output_type": "execute_result"
    }
   ],
   "source": [
    "AN=1\n",
    "b=5\n",
    "AN + b"
   ]
  },
  {
   "cell_type": "code",
   "execution_count": 2,
   "id": "ea2aeb2f-bc9f-4fc7-a0fb-bea1807f2997",
   "metadata": {},
   "outputs": [
    {
     "data": {
      "text/plain": [
       "'This is second class\\nof the python internship batch \\nand we are studying about variables and identifier'"
      ]
     },
     "execution_count": 2,
     "metadata": {},
     "output_type": "execute_result"
    }
   ],
   "source": [
    "AN=1 #This is variable declar\n",
    "b=5\n",
    "AN + b #Doing summation of two variables\n",
    "\"\"\"This is second class\n",
    "of the python internship batch \n",
    "and we are studying about variables and identifier\"\"\""
   ]
  },
  {
   "cell_type": "code",
   "execution_count": 3,
   "id": "26aa8bd6-2f06-4a83-8e7e-9d1a99b3627f",
   "metadata": {},
   "outputs": [
    {
     "data": {
      "text/plain": [
       "6"
      ]
     },
     "execution_count": 3,
     "metadata": {},
     "output_type": "execute_result"
    }
   ],
   "source": [
    "\"\"\"This is second class\n",
    "of the python internship batch \n",
    "and we are studying about variables and identifier\"\"\"\n",
    "AN=1 #This is variable declar\n",
    "b=5\n",
    "AN + b #Doing summation of two variables"
   ]
  },
  {
   "cell_type": "code",
   "execution_count": 4,
   "id": "658ac0f3-5ae5-43ad-ad19-49bb7346c42d",
   "metadata": {},
   "outputs": [
    {
     "name": "stdout",
     "output_type": "stream",
     "text": [
      "6\n"
     ]
    },
    {
     "data": {
      "text/plain": [
       "'This is second class\\nof the python internship batch \\nand we are studying about variables and identifier'"
      ]
     },
     "execution_count": 4,
     "metadata": {},
     "output_type": "execute_result"
    }
   ],
   "source": [
    "AN=1 #This is variable declar\n",
    "b=5\n",
    "print(AN + b) #Doing summation of two variables\n",
    "\"\"\"This is second class\n",
    "of the python internship batch \n",
    "and we are studying about variables and identifier\"\"\""
   ]
  },
  {
   "cell_type": "code",
   "execution_count": 6,
   "id": "6e305645-6987-47ed-97df-b065a6044185",
   "metadata": {},
   "outputs": [
    {
     "name": "stdout",
     "output_type": "stream",
     "text": [
      "The sumation is- 40\n"
     ]
    }
   ],
   "source": [
    "z = 15\n",
    "c = 25\n",
    "u = z+c\n",
    "u\n",
    "print(\"The sumation is-\",z+c)"
   ]
  },
  {
   "cell_type": "code",
   "execution_count": 9,
   "id": "4721350c-06ee-405b-b227-646948152198",
   "metadata": {},
   "outputs": [
    {
     "name": "stdout",
     "output_type": "stream",
     "text": [
      "The sumation is- 40\n"
     ]
    },
    {
     "data": {
      "text/plain": [
       "40"
      ]
     },
     "execution_count": 9,
     "metadata": {},
     "output_type": "execute_result"
    }
   ],
   "source": [
    "z = 15\n",
    "c = 25\n",
    "u = z+c\n",
    "u\n",
    "print(\"The sumation is-\",z+c)\n",
    "u"
   ]
  },
  {
   "cell_type": "code",
   "execution_count": 10,
   "id": "762dc3b8-f216-4059-8951-13b667cb3100",
   "metadata": {},
   "outputs": [
    {
     "name": "stdout",
     "output_type": "stream",
     "text": [
      "The sumation is- 40\n"
     ]
    },
    {
     "data": {
      "text/plain": [
       "40"
      ]
     },
     "execution_count": 10,
     "metadata": {},
     "output_type": "execute_result"
    }
   ],
   "source": [
    "z = 15\n",
    "c = 25\n",
    "v = 2558\n",
    "u = z+c\n",
    "print(\"The sumation is-\",z+c)\n",
    "v\n",
    "u"
   ]
  },
  {
   "cell_type": "code",
   "execution_count": 11,
   "id": "2046926b-77d2-4599-96ce-c01dccb75681",
   "metadata": {},
   "outputs": [
    {
     "name": "stdout",
     "output_type": "stream",
     "text": [
      "The sumation is- 40\n"
     ]
    },
    {
     "data": {
      "text/plain": [
       "2558"
      ]
     },
     "execution_count": 11,
     "metadata": {},
     "output_type": "execute_result"
    }
   ],
   "source": [
    "z = 15\n",
    "c = 25\n",
    "v = 2558\n",
    "u = z+c\n",
    "u\n",
    "print(\"The sumation is-\",z+c)\n",
    "v"
   ]
  },
  {
   "cell_type": "code",
   "execution_count": 12,
   "id": "bed98537-5422-445f-bf09-959c7e6eda9a",
   "metadata": {},
   "outputs": [
    {
     "ename": "SyntaxError",
     "evalue": "invalid decimal literal (3427856042.py, line 1)",
     "output_type": "error",
     "traceback": [
      "\u001b[1;36m  Cell \u001b[1;32mIn[12], line 1\u001b[1;36m\u001b[0m\n\u001b[1;33m    1A = 147\u001b[0m\n\u001b[1;37m    ^\u001b[0m\n\u001b[1;31mSyntaxError\u001b[0m\u001b[1;31m:\u001b[0m invalid decimal literal\n"
     ]
    }
   ],
   "source": [
    "1A = 147\n",
    "1A"
   ]
  },
  {
   "cell_type": "code",
   "execution_count": 13,
   "id": "d13e7d26-97eb-4ee3-b1b7-518ddb46c8d5",
   "metadata": {},
   "outputs": [
    {
     "data": {
      "text/plain": [
       "147"
      ]
     },
     "execution_count": 13,
     "metadata": {},
     "output_type": "execute_result"
    }
   ],
   "source": [
    "_1A = 147\n",
    "_1A"
   ]
  },
  {
   "cell_type": "code",
   "execution_count": 14,
   "id": "ffac4492-7564-4b9c-9027-886dfd34c21b",
   "metadata": {},
   "outputs": [
    {
     "data": {
      "text/plain": [
       "int"
      ]
     },
     "execution_count": 14,
     "metadata": {},
     "output_type": "execute_result"
    }
   ],
   "source": [
    "w = type(_1A)\n",
    "w"
   ]
  },
  {
   "cell_type": "code",
   "execution_count": 15,
   "id": "28824efc-5dbd-4a42-9250-90cceee5bd27",
   "metadata": {},
   "outputs": [
    {
     "name": "stdout",
     "output_type": "stream",
     "text": [
      "<class 'int'>\n"
     ]
    }
   ],
   "source": [
    "print(w)"
   ]
  },
  {
   "cell_type": "code",
   "execution_count": 20,
   "id": "dc98a31f-cadb-494e-bbbc-27392f32f15f",
   "metadata": {},
   "outputs": [
    {
     "data": {
      "text/plain": [
       "'R'"
      ]
     },
     "execution_count": 20,
     "metadata": {},
     "output_type": "execute_result"
    }
   ],
   "source": [
    "_1b = 'R'\n",
    "_1b"
   ]
  },
  {
   "cell_type": "code",
   "execution_count": 18,
   "id": "4f943697-9d39-4440-8e0e-4243bda41592",
   "metadata": {},
   "outputs": [
    {
     "data": {
      "text/plain": [
       "str"
      ]
     },
     "execution_count": 18,
     "metadata": {},
     "output_type": "execute_result"
    }
   ],
   "source": [
    "s = type(_1b)\n",
    "s"
   ]
  },
  {
   "cell_type": "code",
   "execution_count": 22,
   "id": "5d45da54-d713-4144-b1e0-92ce2a1ba43f",
   "metadata": {},
   "outputs": [
    {
     "name": "stdout",
     "output_type": "stream",
     "text": [
      "<class 'str'>\n"
     ]
    }
   ],
   "source": [
    "print(s)"
   ]
  },
  {
   "cell_type": "code",
   "execution_count": 24,
   "id": "9f205bdb-9be4-4989-bc6a-eeb49c3fd5c7",
   "metadata": {},
   "outputs": [
    {
     "name": "stdout",
     "output_type": "stream",
     "text": [
      "['False', 'None', 'True', 'and', 'as', 'assert', 'async', 'await', 'break', 'class', 'continue', 'def', 'del', 'elif', 'else', 'except', 'finally', 'for', 'from', 'global', 'if', 'import', 'in', 'is', 'lambda', 'nonlocal', 'not', 'or', 'pass', 'raise', 'return', 'try', 'while', 'with', 'yield']\n"
     ]
    }
   ],
   "source": [
    "import keyword\n",
    "keywords = keyword.kwlist\n",
    "print(keywords)"
   ]
  },
  {
   "cell_type": "code",
   "execution_count": 25,
   "id": "33d97f7b-7ccb-4770-aab4-3822b0aa9922",
   "metadata": {},
   "outputs": [
    {
     "data": {
      "text/plain": [
       "35"
      ]
     },
     "execution_count": 25,
     "metadata": {},
     "output_type": "execute_result"
    }
   ],
   "source": [
    "len(keywords)"
   ]
  },
  {
   "cell_type": "code",
   "execution_count": 26,
   "id": "9912c7c1-c17f-426c-bca7-fc8bded68a12",
   "metadata": {},
   "outputs": [
    {
     "name": "stdin",
     "output_type": "stream",
     "text": [
      "Enter your company name - OCAC\n"
     ]
    },
    {
     "name": "stdout",
     "output_type": "stream",
     "text": [
      "my Organisation name is -  OCAC\n"
     ]
    }
   ],
   "source": [
    "b = input(\"Enter your company name -\")\n",
    "print(\"my Organisation name is - \",b)"
   ]
  },
  {
   "cell_type": "code",
   "execution_count": 27,
   "id": "a9ec261c-1dd3-4533-a434-352633e74a88",
   "metadata": {},
   "outputs": [
    {
     "name": "stdout",
     "output_type": "stream",
     "text": [
      "OCAC is my Organisation name\n"
     ]
    }
   ],
   "source": [
    "print(b,\"is my Organisation name\")"
   ]
  },
  {
   "cell_type": "code",
   "execution_count": 29,
   "id": "a62d78cc-f039-4ee8-b601-5456d0fdf500",
   "metadata": {},
   "outputs": [
    {
     "name": "stdout",
     "output_type": "stream",
     "text": [
      "I am from  OCAC Where are you from?\n"
     ]
    }
   ],
   "source": [
    "print(\"I am from \",b,\"Where are you from?\")"
   ]
  },
  {
   "cell_type": "code",
   "execution_count": 33,
   "id": "222763d5-29e1-493e-b587-a21761f2269d",
   "metadata": {},
   "outputs": [
    {
     "name": "stdin",
     "output_type": "stream",
     "text": [
      "Enter your company name - OCAC\n",
      "Enter your Employ ID - 7853\n"
     ]
    },
    {
     "name": "stdout",
     "output_type": "stream",
     "text": [
      "my Organisation name is -  OCAC\n",
      "my Organisation name is -  7853\n"
     ]
    }
   ],
   "source": [
    "b = input(\"Enter your company name -\")\n",
    "c = input(\"Enter your Employ ID -\")\n",
    "print(\"my Organisation name is - \",b)\n",
    "print(\"my Organisation name is - \",c)"
   ]
  },
  {
   "cell_type": "code",
   "execution_count": 34,
   "id": "325903b7-e3d8-4cae-8f79-411a52ba79b7",
   "metadata": {},
   "outputs": [
    {
     "name": "stdout",
     "output_type": "stream",
     "text": [
      "I AM FROM MINDTREE and my Employee ID is OCAC\n"
     ]
    }
   ],
   "source": [
    "print(\"I AM FROM {} and my Employee ID is {}\".format(b,c))"
   ]
  },
  {
   "cell_type": "code",
   "execution_count": 35,
   "id": "23e416f1-6798-47e6-a31f-cb4ab0997c23",
   "metadata": {},
   "outputs": [
    {
     "name": "stdout",
     "output_type": "stream",
     "text": [
      "10 20 30\n"
     ]
    }
   ],
   "source": [
    "a = 10\n",
    "b = 20\n",
    "c = 30\n",
    "print(a,b,c)"
   ]
  },
  {
   "cell_type": "code",
   "execution_count": 37,
   "id": "5df1ea2d-e8dd-4517-8f55-c1dba0bd8ca7",
   "metadata": {},
   "outputs": [
    {
     "data": {
      "text/plain": [
       "16"
      ]
     },
     "execution_count": 37,
     "metadata": {},
     "output_type": "execute_result"
    }
   ],
   "source": [
    "A = 16\n",
    "A"
   ]
  },
  {
   "cell_type": "code",
   "execution_count": 39,
   "id": "6a5b563a-8718-4db9-aa16-0ceeb25cb627",
   "metadata": {},
   "outputs": [],
   "source": [
    "del (A)"
   ]
  },
  {
   "cell_type": "code",
   "execution_count": 40,
   "id": "c2158115-6d12-470e-9016-3e24f3ce5685",
   "metadata": {},
   "outputs": [
    {
     "ename": "NameError",
     "evalue": "name 'A' is not defined",
     "output_type": "error",
     "traceback": [
      "\u001b[1;31m---------------------------------------------------------------------------\u001b[0m",
      "\u001b[1;31mNameError\u001b[0m                                 Traceback (most recent call last)",
      "Cell \u001b[1;32mIn[40], line 1\u001b[0m\n\u001b[1;32m----> 1\u001b[0m A\n",
      "\u001b[1;31mNameError\u001b[0m: name 'A' is not defined"
     ]
    }
   ],
   "source": [
    "A"
   ]
  },
  {
   "cell_type": "code",
   "execution_count": 50,
   "id": "75811e3a-bbfa-461d-9712-87117506dbec",
   "metadata": {},
   "outputs": [
    {
     "name": "stdout",
     "output_type": "stream",
     "text": [
      "My fst name is- Rama\n",
      "My fst name is- Siva\n"
     ]
    }
   ],
   "source": [
    "f = \"Rama\"\n",
    "S = \"Siva\"\n",
    "print(\"My fst name is-\",f)\n",
    "print(\"My fst name is-\",S)"
   ]
  },
  {
   "cell_type": "code",
   "execution_count": 51,
   "id": "60a8b7b9-4eda-4aea-b622-9238861092f0",
   "metadata": {},
   "outputs": [
    {
     "data": {
      "text/plain": [
       "'C:\\\\Users\\\\RamaB\\\\PYTHONINTERN'"
      ]
     },
     "execution_count": 51,
     "metadata": {},
     "output_type": "execute_result"
    }
   ],
   "source": [
    "pwd"
   ]
  },
  {
   "cell_type": "code",
   "execution_count": null,
   "id": "17438eb7-74a8-4752-b846-5b3bf9a8530e",
   "metadata": {},
   "outputs": [],
   "source": []
  },
  {
   "cell_type": "code",
   "execution_count": null,
   "id": "c246e609-dafa-4b11-a31c-0224f308dd94",
   "metadata": {},
   "outputs": [],
   "source": []
  }
 ],
 "metadata": {
  "kernelspec": {
   "display_name": "Python 3 (ipykernel)",
   "language": "python",
   "name": "python3"
  },
  "language_info": {
   "codemirror_mode": {
    "name": "ipython",
    "version": 3
   },
   "file_extension": ".py",
   "mimetype": "text/x-python",
   "name": "python",
   "nbconvert_exporter": "python",
   "pygments_lexer": "ipython3",
   "version": "3.11.7"
  }
 },
 "nbformat": 4,
 "nbformat_minor": 5
}
